{
 "cells": [
  {
   "cell_type": "code",
   "execution_count": 1,
   "id": "b3ad3e7b",
   "metadata": {},
   "outputs": [],
   "source": [
    "import os\n",
    "import json\n",
    "import torch\n",
    "import numpy as np\n",
    "from scipy.sparse import csr_matrix\n",
    "\n",
    "from sparc.post_analysis import HDF5AnalysisResultsDataset\n",
    "\n",
    "from sparc.evaluation.retrieval import run_downstream_retrieval_eval\n",
    "from argparse import Namespace\n",
    "from tqdm import tqdm\n"
   ]
  },
  {
   "cell_type": "code",
   "execution_count": 2,
   "id": "e4f0755a",
   "metadata": {},
   "outputs": [],
   "source": [
    "analysis_results_global_cross = HDF5AnalysisResultsDataset('../../final_results/msae_open_global_with_cross/analysis_cache_val.h5', \n",
    "                                                           256)\n",
    "analysis_results_local_cross = HDF5AnalysisResultsDataset('../../final_results/msae_open_local_with_cross/analysis_cache_val.h5', \n",
    "                                                           256)"
   ]
  },
  {
   "cell_type": "code",
   "execution_count": 3,
   "id": "ebe11e5d",
   "metadata": {},
   "outputs": [],
   "source": [
    "raw_clip_img = csr_matrix(analysis_results_global_cross.get_all_features_for_stream('clip_img', 'raw'))\n",
    "raw_clip_txt = csr_matrix(analysis_results_global_cross.get_all_features_for_stream('clip_txt', 'raw'))"
   ]
  },
  {
   "cell_type": "code",
   "execution_count": 4,
   "id": "c0dcc165",
   "metadata": {},
   "outputs": [],
   "source": [
    "with open('../../final_results/msae_open_global_with_cross/run_config.json', 'r') as f:\n",
    "    config_dict = json.load(f)"
   ]
  },
  {
   "cell_type": "code",
   "execution_count": 5,
   "id": "5d4d7e41",
   "metadata": {},
   "outputs": [],
   "source": [
    "args = Namespace()\n",
    "args.verbose=True"
   ]
  },
  {
   "cell_type": "code",
   "execution_count": 6,
   "id": "f77fb53c",
   "metadata": {
    "scrolled": true
   },
   "outputs": [
    {
     "name": "stderr",
     "output_type": "stream",
     "text": [
      "\n",
      "Retrieval Batch:   0%|                          | 0/126020 [00:00<?, ?samples/s]\u001b[A\n",
      "Retrieval Batch:   1%|             | 1024/126020 [00:00<00:15, 8248.08samples/s]\u001b[A\n",
      "Retrieval Batch:   2%|▏            | 2048/126020 [00:00<00:14, 8732.89samples/s]\u001b[A\n",
      "Retrieval Batch:   2%|▎            | 3072/126020 [00:00<00:13, 8944.96samples/s]\u001b[A\n",
      "Retrieval Batch:   3%|▍            | 4096/126020 [00:00<00:13, 9002.97samples/s]\u001b[A\n",
      "Retrieval Batch:   4%|▌            | 5120/126020 [00:00<00:13, 9068.25samples/s]\u001b[A\n",
      "Retrieval Batch:   5%|▋            | 6144/126020 [00:00<00:13, 9056.03samples/s]\u001b[A\n",
      "Retrieval Batch:   6%|▋            | 7168/126020 [00:00<00:13, 9099.99samples/s]\u001b[A\n",
      "Retrieval Batch:   7%|▊            | 8192/126020 [00:00<00:12, 9134.63samples/s]\u001b[A\n",
      "Retrieval Batch:   7%|▉            | 9216/126020 [00:01<00:12, 9146.89samples/s]\u001b[A\n",
      "Retrieval Batch:   8%|▉           | 10240/126020 [00:01<00:12, 9156.02samples/s]\u001b[A\n",
      "Retrieval Batch:   9%|█           | 11264/126020 [00:01<00:12, 9152.34samples/s]\u001b[A\n",
      "Retrieval Batch:  10%|█▏          | 12288/126020 [00:01<00:12, 9157.59samples/s]\u001b[A\n",
      "Retrieval Batch:  11%|█▎          | 13312/126020 [00:01<00:12, 9162.79samples/s]\u001b[A\n",
      "Retrieval Batch:  11%|█▎          | 14336/126020 [00:01<00:12, 9162.77samples/s]\u001b[A\n",
      "Retrieval Batch:  12%|█▍          | 15360/126020 [00:01<00:12, 9170.72samples/s]\u001b[A\n",
      "Retrieval Batch:  13%|█▌          | 16384/126020 [00:01<00:11, 9159.23samples/s]\u001b[A\n",
      "Retrieval Batch:  14%|█▋          | 17408/126020 [00:01<00:11, 9167.82samples/s]\u001b[A\n",
      "Retrieval Batch:  15%|█▊          | 18432/126020 [00:02<00:11, 9169.95samples/s]\u001b[A\n",
      "Retrieval Batch:  15%|█▊          | 19456/126020 [00:02<00:11, 9160.32samples/s]\u001b[A\n",
      "Retrieval Batch:  16%|█▉          | 20480/126020 [00:02<00:11, 9157.16samples/s]\u001b[A\n",
      "Retrieval Batch:  17%|██          | 21504/126020 [00:02<00:11, 9155.07samples/s]\u001b[A\n",
      "Retrieval Batch:  18%|██▏         | 22528/126020 [00:02<00:11, 9158.87samples/s]\u001b[A\n",
      "Retrieval Batch:  19%|██▏         | 23552/126020 [00:02<00:11, 9160.35samples/s]\u001b[A\n",
      "Retrieval Batch:  20%|██▎         | 24576/126020 [00:02<00:11, 9160.14samples/s]\u001b[A\n",
      "Retrieval Batch:  20%|██▍         | 25600/126020 [00:02<00:10, 9160.77samples/s]\u001b[A\n",
      "Retrieval Batch:  21%|██▌         | 26624/126020 [00:02<00:10, 9156.12samples/s]\u001b[A\n",
      "Retrieval Batch:  22%|██▋         | 27648/126020 [00:03<00:10, 9158.73samples/s]\u001b[A\n",
      "Retrieval Batch:  23%|██▋         | 28672/126020 [00:03<00:10, 9155.28samples/s]\u001b[A\n",
      "Retrieval Batch:  24%|██▊         | 29696/126020 [00:03<00:10, 9151.51samples/s]\u001b[A\n",
      "Retrieval Batch:  24%|██▉         | 30720/126020 [00:03<00:10, 9155.19samples/s]\u001b[A\n",
      "Retrieval Batch:  25%|███         | 31744/126020 [00:03<00:10, 9160.97samples/s]\u001b[A\n",
      "Retrieval Batch:  26%|███         | 32768/126020 [00:03<00:10, 9155.93samples/s]\u001b[A\n",
      "Retrieval Batch:  27%|███▏        | 33792/126020 [00:03<00:10, 9151.35samples/s]\u001b[A\n",
      "Retrieval Batch:  28%|███▎        | 34816/126020 [00:03<00:09, 9154.72samples/s]\u001b[A\n",
      "Retrieval Batch:  28%|███▍        | 35840/126020 [00:03<00:09, 9154.20samples/s]\u001b[A\n",
      "Retrieval Batch:  29%|███▌        | 36864/126020 [00:04<00:09, 9151.27samples/s]\u001b[A\n",
      "Retrieval Batch:  30%|███▌        | 37888/126020 [00:04<00:09, 9158.98samples/s]\u001b[A\n",
      "Retrieval Batch:  31%|███▋        | 38912/126020 [00:04<00:09, 9156.76samples/s]\u001b[A\n",
      "Retrieval Batch:  32%|███▊        | 39936/126020 [00:04<00:09, 9154.31samples/s]\u001b[A\n",
      "Retrieval Batch:  33%|███▉        | 40960/126020 [00:04<00:09, 9154.02samples/s]\u001b[A\n",
      "Retrieval Batch:  33%|███▉        | 41984/126020 [00:04<00:09, 9158.08samples/s]\u001b[A\n",
      "Retrieval Batch:  34%|████        | 43008/126020 [00:04<00:09, 9155.90samples/s]\u001b[A\n",
      "Retrieval Batch:  35%|████▏       | 44032/126020 [00:04<00:08, 9153.31samples/s]\u001b[A\n",
      "Retrieval Batch:  36%|████▎       | 45056/126020 [00:04<00:08, 9156.82samples/s]\u001b[A\n",
      "Retrieval Batch:  37%|████▍       | 46080/126020 [00:05<00:08, 9152.20samples/s]\u001b[A\n",
      "Retrieval Batch:  37%|████▍       | 47104/126020 [00:05<00:08, 9141.84samples/s]\u001b[A\n",
      "Retrieval Batch:  38%|████▌       | 48128/126020 [00:05<00:08, 9151.54samples/s]\u001b[A\n",
      "Retrieval Batch:  39%|████▋       | 49152/126020 [00:05<00:08, 9148.07samples/s]\u001b[A\n",
      "Retrieval Batch:  40%|████▊       | 50176/126020 [00:05<00:08, 9143.65samples/s]\u001b[A\n",
      "Retrieval Batch:  41%|████▉       | 51200/126020 [00:05<00:08, 9143.19samples/s]\u001b[A\n",
      "Retrieval Batch:  41%|████▉       | 52224/126020 [00:05<00:08, 9142.07samples/s]\u001b[A\n",
      "Retrieval Batch:  42%|█████       | 53248/126020 [00:05<00:07, 9150.46samples/s]\u001b[A\n",
      "Retrieval Batch:  43%|█████▏      | 54272/126020 [00:05<00:07, 9146.93samples/s]\u001b[A\n",
      "Retrieval Batch:  44%|█████▎      | 55296/126020 [00:06<00:07, 9156.65samples/s]\u001b[A\n",
      "Retrieval Batch:  45%|█████▎      | 56320/126020 [00:06<00:07, 9155.90samples/s]\u001b[A\n",
      "Retrieval Batch:  46%|█████▍      | 57344/126020 [00:06<00:07, 9166.37samples/s]\u001b[A\n",
      "Retrieval Batch:  46%|█████▌      | 58368/126020 [00:06<00:07, 9184.62samples/s]\u001b[A\n",
      "Retrieval Batch:  47%|█████▋      | 59392/126020 [00:06<00:07, 9180.18samples/s]\u001b[A\n",
      "Retrieval Batch:  48%|█████▊      | 60416/126020 [00:06<00:07, 9177.30samples/s]\u001b[A\n",
      "Retrieval Batch:  49%|█████▊      | 61440/126020 [00:06<00:07, 9175.30samples/s]\u001b[A\n",
      "Retrieval Batch:  50%|█████▉      | 62464/126020 [00:06<00:06, 9180.44samples/s]\u001b[A\n",
      "Retrieval Batch:  50%|██████      | 63488/126020 [00:06<00:06, 9175.55samples/s]\u001b[A\n",
      "Retrieval Batch:  51%|██████▏     | 64512/126020 [00:07<00:06, 9170.14samples/s]\u001b[A\n",
      "Retrieval Batch:  52%|██████▏     | 65536/126020 [00:07<00:06, 9171.24samples/s]\u001b[A\n",
      "Retrieval Batch:  53%|██████▎     | 66560/126020 [00:07<00:06, 9177.48samples/s]\u001b[A\n",
      "Retrieval Batch:  54%|██████▍     | 67584/126020 [00:07<00:06, 9174.46samples/s]\u001b[A\n",
      "Retrieval Batch:  54%|██████▌     | 68608/126020 [00:07<00:06, 9174.71samples/s]\u001b[A\n",
      "Retrieval Batch:  55%|██████▋     | 69632/126020 [00:07<00:06, 9179.83samples/s]\u001b[A\n",
      "Retrieval Batch:  56%|██████▋     | 70656/126020 [00:07<00:06, 9180.91samples/s]\u001b[A\n",
      "Retrieval Batch:  57%|██████▊     | 71680/126020 [00:07<00:05, 9185.46samples/s]\u001b[A\n",
      "Retrieval Batch:  58%|██████▉     | 72704/126020 [00:07<00:05, 9180.16samples/s]\u001b[A\n",
      "Retrieval Batch:  59%|███████     | 73728/126020 [00:08<00:05, 9186.39samples/s]\u001b[A\n",
      "Retrieval Batch:  59%|███████     | 74752/126020 [00:08<00:05, 9182.87samples/s]\u001b[A\n",
      "Retrieval Batch:  60%|███████▏    | 75776/126020 [00:08<00:05, 9176.85samples/s]\u001b[A\n",
      "Retrieval Batch:  61%|███████▎    | 76800/126020 [00:08<00:05, 9173.43samples/s]\u001b[A\n",
      "Retrieval Batch:  62%|███████▍    | 77824/126020 [00:08<00:05, 9174.19samples/s]\u001b[A\n",
      "Retrieval Batch:  63%|███████▌    | 78848/126020 [00:08<00:05, 9176.29samples/s]\u001b[A\n",
      "Retrieval Batch:  63%|███████▌    | 79872/126020 [00:08<00:05, 9176.02samples/s]\u001b[A\n",
      "Retrieval Batch:  64%|███████▋    | 80896/126020 [00:08<00:04, 9169.59samples/s]\u001b[A\n",
      "Retrieval Batch:  65%|███████▊    | 81920/126020 [00:08<00:04, 9170.66samples/s]\u001b[A\n",
      "Retrieval Batch:  66%|███████▉    | 82944/126020 [00:09<00:04, 9173.87samples/s]\u001b[A\n",
      "Retrieval Batch:  67%|███████▉    | 83968/126020 [00:09<00:04, 9169.14samples/s]\u001b[A\n",
      "Retrieval Batch:  67%|████████    | 84992/126020 [00:09<00:04, 9174.86samples/s]\u001b[A\n",
      "Retrieval Batch:  68%|████████▏   | 86016/126020 [00:09<00:04, 9166.08samples/s]\u001b[A\n",
      "Retrieval Batch:  69%|████████▎   | 87040/126020 [00:09<00:04, 9167.97samples/s]\u001b[A\n",
      "Retrieval Batch:  70%|████████▍   | 88064/126020 [00:09<00:04, 9163.35samples/s]\u001b[A\n",
      "Retrieval Batch:  71%|████████▍   | 89088/126020 [00:09<00:04, 9175.97samples/s]\u001b[A\n",
      "Retrieval Batch:  72%|████████▌   | 90112/126020 [00:09<00:03, 9173.94samples/s]\u001b[A\n",
      "Retrieval Batch:  72%|████████▋   | 91136/126020 [00:09<00:03, 9162.98samples/s]\u001b[A\n",
      "Retrieval Batch:  73%|████████▊   | 92160/126020 [00:10<00:03, 9170.08samples/s]\u001b[A\n",
      "Retrieval Batch:  74%|████████▊   | 93184/126020 [00:10<00:03, 9170.34samples/s]\u001b[A\n",
      "Retrieval Batch:  75%|████████▉   | 94208/126020 [00:10<00:03, 9170.12samples/s]\u001b[A\n",
      "Retrieval Batch:  76%|█████████   | 95232/126020 [00:10<00:03, 9175.72samples/s]\u001b[A\n",
      "Retrieval Batch:  76%|█████████▏  | 96256/126020 [00:10<00:03, 9175.11samples/s]\u001b[A\n",
      "Retrieval Batch:  77%|█████████▎  | 97280/126020 [00:10<00:03, 9166.74samples/s]\u001b[A\n",
      "Retrieval Batch:  78%|█████████▎  | 98304/126020 [00:10<00:03, 9151.96samples/s]\u001b[A\n"
     ]
    },
    {
     "name": "stderr",
     "output_type": "stream",
     "text": [
      "Retrieval Batch:  79%|█████████▍  | 99328/126020 [00:10<00:02, 9154.22samples/s]\u001b[A\n",
      "Retrieval Batch:  80%|████████▊  | 100352/126020 [00:10<00:02, 9140.47samples/s]\u001b[A\n",
      "Retrieval Batch:  80%|████████▊  | 101376/126020 [00:11<00:02, 9133.05samples/s]\u001b[A\n",
      "Retrieval Batch:  81%|████████▉  | 102400/126020 [00:11<00:02, 9142.58samples/s]\u001b[A\n",
      "Retrieval Batch:  82%|█████████  | 103424/126020 [00:11<00:02, 9144.62samples/s]\u001b[A\n",
      "Retrieval Batch:  83%|█████████  | 104448/126020 [00:11<00:02, 9148.83samples/s]\u001b[A\n",
      "Retrieval Batch:  84%|█████████▏ | 105472/126020 [00:11<00:02, 9155.77samples/s]\u001b[A\n",
      "Retrieval Batch:  85%|█████████▎ | 106496/126020 [00:11<00:02, 9166.77samples/s]\u001b[A\n",
      "Retrieval Batch:  85%|█████████▍ | 107520/126020 [00:11<00:02, 9158.56samples/s]\u001b[A\n",
      "Retrieval Batch:  86%|█████████▍ | 108544/126020 [00:11<00:01, 9141.16samples/s]\u001b[A\n",
      "Retrieval Batch:  87%|█████████▌ | 109568/126020 [00:11<00:01, 9143.69samples/s]\u001b[A\n",
      "Retrieval Batch:  88%|█████████▋ | 110592/126020 [00:12<00:01, 9150.88samples/s]\u001b[A\n",
      "Retrieval Batch:  89%|█████████▋ | 111616/126020 [00:12<00:01, 9150.09samples/s]\u001b[A\n",
      "Retrieval Batch:  89%|█████████▊ | 112640/126020 [00:12<00:01, 9158.36samples/s]\u001b[A\n",
      "Retrieval Batch:  90%|█████████▉ | 113664/126020 [00:12<00:01, 9156.56samples/s]\u001b[A\n",
      "Retrieval Batch:  91%|██████████ | 114688/126020 [00:12<00:01, 9156.04samples/s]\u001b[A\n",
      "Retrieval Batch:  92%|██████████ | 115712/126020 [00:12<00:01, 9154.70samples/s]\u001b[A\n",
      "Retrieval Batch:  93%|██████████▏| 116736/126020 [00:12<00:01, 9164.28samples/s]\u001b[A\n",
      "Retrieval Batch:  93%|██████████▎| 117760/126020 [00:12<00:00, 9171.39samples/s]\u001b[A\n",
      "Retrieval Batch:  94%|██████████▎| 118784/126020 [00:12<00:00, 9168.58samples/s]\u001b[A\n",
      "Retrieval Batch:  95%|██████████▍| 119808/126020 [00:13<00:00, 9177.76samples/s]\u001b[A\n",
      "Retrieval Batch:  96%|██████████▌| 120832/126020 [00:13<00:00, 9176.54samples/s]\u001b[A\n",
      "Retrieval Batch:  97%|██████████▋| 121856/126020 [00:13<00:00, 9175.16samples/s]\u001b[A\n",
      "Retrieval Batch:  98%|██████████▋| 122880/126020 [00:13<00:00, 9184.33samples/s]\u001b[A\n",
      "Retrieval Batch:  98%|██████████▊| 123904/126020 [00:13<00:00, 9184.36samples/s]\u001b[A\n",
      "Retrieval Batch:  99%|██████████▉| 124928/126020 [00:13<00:00, 9179.95samples/s]\u001b[A\n",
      "Retrieval Batch: 100%|██████████▉| 125952/126020 [00:13<00:00, 9179.25samples/s]\u001b[A\n",
      "                                                                                \u001b[A"
     ]
    }
   ],
   "source": [
    "device = torch.device('cuda')\n",
    "metric = run_downstream_retrieval_eval(\n",
    "    query_feats=raw_clip_img.toarray(), \n",
    "    reference_feats=raw_clip_txt.toarray(), \n",
    "    verbose=args.verbose, \n",
    "    device=str(device)\n",
    ")"
   ]
  },
  {
   "cell_type": "code",
   "execution_count": 7,
   "id": "710cc7a5",
   "metadata": {
    "scrolled": true
   },
   "outputs": [
    {
     "data": {
      "text/plain": [
       "{'R@1': 0.09829392284154892,\n",
       " 'R@5': 0.20686398446559906,\n",
       " 'R@10': 0.2694969177246094,\n",
       " 'MedR': 79,\n",
       " 'MRR': 0.1559826135635376}"
      ]
     },
     "execution_count": 7,
     "metadata": {},
     "output_type": "execute_result"
    }
   ],
   "source": [
    "metric"
   ]
  },
  {
   "cell_type": "code",
   "execution_count": 8,
   "id": "ee2950ca",
   "metadata": {
    "scrolled": true
   },
   "outputs": [
    {
     "name": "stderr",
     "output_type": "stream",
     "text": [
      "\n",
      "Retrieval Batch:   0%|                          | 0/126020 [00:00<?, ?samples/s]\u001b[A\n",
      "Retrieval Batch:   1%|             | 1024/126020 [00:00<00:13, 9021.28samples/s]\u001b[A\n",
      "Retrieval Batch:   2%|▏            | 2048/126020 [00:00<00:13, 9127.69samples/s]\u001b[A\n",
      "Retrieval Batch:   2%|▎            | 3072/126020 [00:00<00:13, 9165.20samples/s]\u001b[A\n",
      "Retrieval Batch:   3%|▍            | 4096/126020 [00:00<00:13, 9181.40samples/s]\u001b[A\n",
      "Retrieval Batch:   4%|▌            | 5120/126020 [00:00<00:13, 9188.89samples/s]\u001b[A\n",
      "Retrieval Batch:   5%|▋            | 6144/126020 [00:00<00:13, 9165.05samples/s]\u001b[A\n",
      "Retrieval Batch:   6%|▋            | 7168/126020 [00:00<00:12, 9182.48samples/s]\u001b[A\n",
      "Retrieval Batch:   7%|▊            | 8192/126020 [00:00<00:12, 9143.77samples/s]\u001b[A\n",
      "Retrieval Batch:   7%|▉            | 9216/126020 [00:01<00:12, 9142.76samples/s]\u001b[A\n",
      "Retrieval Batch:   8%|▉           | 10240/126020 [00:01<00:12, 9160.06samples/s]\u001b[A\n",
      "Retrieval Batch:   9%|█           | 11264/126020 [00:01<00:12, 9171.00samples/s]\u001b[A\n",
      "Retrieval Batch:  10%|█▏          | 12288/126020 [00:01<00:12, 9180.53samples/s]\u001b[A\n",
      "Retrieval Batch:  11%|█▎          | 13312/126020 [00:01<00:12, 9223.03samples/s]\u001b[A\n",
      "Retrieval Batch:  11%|█▎          | 14336/126020 [00:01<00:12, 9242.02samples/s]\u001b[A\n",
      "Retrieval Batch:  12%|█▍          | 15360/126020 [00:01<00:12, 9214.89samples/s]\u001b[A\n",
      "Retrieval Batch:  13%|█▌          | 16384/126020 [00:01<00:11, 9235.46samples/s]\u001b[A\n",
      "Retrieval Batch:  14%|█▋          | 17408/126020 [00:01<00:11, 9250.22samples/s]\u001b[A\n",
      "Retrieval Batch:  15%|█▊          | 18432/126020 [00:02<00:11, 9238.19samples/s]\u001b[A\n",
      "Retrieval Batch:  15%|█▊          | 19456/126020 [00:02<00:11, 9196.86samples/s]\u001b[A\n",
      "Retrieval Batch:  16%|█▉          | 20480/126020 [00:02<00:11, 9172.30samples/s]\u001b[A\n",
      "Retrieval Batch:  17%|██          | 21504/126020 [00:02<00:11, 9198.75samples/s]\u001b[A\n",
      "Retrieval Batch:  18%|██▏         | 22528/126020 [00:02<00:11, 9223.07samples/s]\u001b[A\n",
      "Retrieval Batch:  19%|██▏         | 23552/126020 [00:02<00:11, 9242.52samples/s]\u001b[A\n",
      "Retrieval Batch:  20%|██▎         | 24576/126020 [00:02<00:10, 9244.75samples/s]\u001b[A\n",
      "Retrieval Batch:  20%|██▍         | 25600/126020 [00:02<00:10, 9217.17samples/s]\u001b[A\n",
      "Retrieval Batch:  21%|██▌         | 26624/126020 [00:02<00:10, 9236.29samples/s]\u001b[A\n",
      "Retrieval Batch:  22%|██▋         | 27648/126020 [00:03<00:10, 9252.59samples/s]\u001b[A\n",
      "Retrieval Batch:  23%|██▋         | 28672/126020 [00:03<00:10, 9268.13samples/s]\u001b[A\n",
      "Retrieval Batch:  24%|██▊         | 29696/126020 [00:03<00:10, 9221.83samples/s]\u001b[A\n",
      "Retrieval Batch:  24%|██▉         | 30720/126020 [00:03<00:10, 9238.04samples/s]\u001b[A\n",
      "Retrieval Batch:  25%|███         | 31744/126020 [00:03<00:10, 9006.94samples/s]\u001b[A\n",
      "Retrieval Batch:  26%|███         | 32768/126020 [00:03<00:10, 8887.38samples/s]\u001b[A\n",
      "Retrieval Batch:  27%|███▏        | 33792/126020 [00:03<00:10, 8980.65samples/s]\u001b[A\n",
      "Retrieval Batch:  28%|███▎        | 34816/126020 [00:03<00:10, 9066.24samples/s]\u001b[A\n",
      "Retrieval Batch:  28%|███▍        | 35840/126020 [00:03<00:09, 9125.44samples/s]\u001b[A\n",
      "Retrieval Batch:  29%|███▌        | 36864/126020 [00:04<00:09, 9170.68samples/s]\u001b[A\n",
      "Retrieval Batch:  30%|███▌        | 37888/126020 [00:04<00:09, 8982.53samples/s]\u001b[A\n",
      "Retrieval Batch:  31%|███▋        | 38912/126020 [00:04<00:09, 8867.73samples/s]\u001b[A\n",
      "Retrieval Batch:  32%|███▊        | 39936/126020 [00:04<00:09, 8966.36samples/s]\u001b[A\n",
      "Retrieval Batch:  33%|███▉        | 40960/126020 [00:04<00:09, 9015.16samples/s]\u001b[A\n",
      "Retrieval Batch:  33%|███▉        | 41984/126020 [00:04<00:09, 9058.17samples/s]\u001b[A\n",
      "Retrieval Batch:  34%|████        | 43008/126020 [00:04<00:09, 8939.94samples/s]\u001b[A\n",
      "Retrieval Batch:  35%|████▏       | 44032/126020 [00:04<00:09, 8845.88samples/s]\u001b[A\n",
      "Retrieval Batch:  36%|████▎       | 45056/126020 [00:04<00:09, 8809.90samples/s]\u001b[A\n",
      "Retrieval Batch:  37%|████▍       | 46080/126020 [00:05<00:08, 8943.03samples/s]\u001b[A\n",
      "Retrieval Batch:  37%|████▍       | 47104/126020 [00:05<00:08, 8919.26samples/s]\u001b[A\n",
      "Retrieval Batch:  38%|████▌       | 48128/126020 [00:05<00:08, 8825.92samples/s]\u001b[A\n",
      "Retrieval Batch:  39%|████▋       | 49152/126020 [00:05<00:08, 8774.59samples/s]\u001b[A\n",
      "Retrieval Batch:  40%|████▊       | 50176/126020 [00:05<00:08, 8919.17samples/s]\u001b[A\n",
      "Retrieval Batch:  41%|████▉       | 51200/126020 [00:05<00:08, 9021.72samples/s]\u001b[A\n",
      "Retrieval Batch:  41%|████▉       | 52224/126020 [00:05<00:08, 9055.63samples/s]\u001b[A\n",
      "Retrieval Batch:  42%|█████       | 53248/126020 [00:05<00:08, 9084.51samples/s]\u001b[A\n",
      "Retrieval Batch:  43%|█████▏      | 54272/126020 [00:05<00:07, 9145.52samples/s]\u001b[A\n",
      "Retrieval Batch:  44%|█████▎      | 55296/126020 [00:06<00:07, 9184.04samples/s]\u001b[A\n",
      "Retrieval Batch:  45%|█████▎      | 56320/126020 [00:06<00:07, 9208.47samples/s]\u001b[A\n",
      "Retrieval Batch:  46%|█████▍      | 57344/126020 [00:06<00:07, 9231.80samples/s]\u001b[A\n",
      "Retrieval Batch:  46%|█████▌      | 58368/126020 [00:06<00:07, 9066.41samples/s]\u001b[A\n",
      "Retrieval Batch:  47%|█████▋      | 59392/126020 [00:06<00:07, 8929.08samples/s]\u001b[A\n",
      "Retrieval Batch:  48%|█████▊      | 60416/126020 [00:06<00:07, 8943.16samples/s]\u001b[A\n",
      "Retrieval Batch:  49%|█████▊      | 61440/126020 [00:06<00:07, 9037.49samples/s]\u001b[A\n",
      "Retrieval Batch:  50%|█████▉      | 62464/126020 [00:06<00:07, 9069.27samples/s]\u001b[A\n",
      "Retrieval Batch:  50%|██████      | 63488/126020 [00:06<00:06, 9090.12samples/s]\u001b[A\n",
      "Retrieval Batch:  51%|██████▏     | 64512/126020 [00:07<00:06, 9144.96samples/s]\u001b[A\n",
      "Retrieval Batch:  52%|██████▏     | 65536/126020 [00:07<00:06, 8981.45samples/s]\u001b[A\n",
      "Retrieval Batch:  53%|██████▎     | 66560/126020 [00:07<00:06, 8842.90samples/s]\u001b[A\n",
      "Retrieval Batch:  54%|██████▍     | 67584/126020 [00:07<00:06, 8813.53samples/s]\u001b[A\n",
      "Retrieval Batch:  54%|██████▌     | 68608/126020 [00:07<00:06, 8940.96samples/s]\u001b[A\n",
      "Retrieval Batch:  55%|██████▋     | 69632/126020 [00:07<00:06, 9034.02samples/s]\u001b[A\n",
      "Retrieval Batch:  56%|██████▋     | 70656/126020 [00:07<00:06, 9066.74samples/s]\u001b[A\n",
      "Retrieval Batch:  57%|██████▊     | 71680/126020 [00:07<00:05, 9125.99samples/s]\u001b[A\n",
      "Retrieval Batch:  58%|██████▉     | 72704/126020 [00:08<00:05, 9143.82samples/s]\u001b[A\n",
      "Retrieval Batch:  59%|███████     | 73728/126020 [00:08<00:05, 9085.62samples/s]\u001b[A\n",
      "Retrieval Batch:  59%|███████     | 74752/126020 [00:08<00:05, 8910.80samples/s]\u001b[A\n",
      "Retrieval Batch:  60%|███████▏    | 75776/126020 [00:08<00:05, 8942.48samples/s]\u001b[A\n",
      "Retrieval Batch:  61%|███████▎    | 76800/126020 [00:08<00:05, 9042.42samples/s]\u001b[A\n",
      "Retrieval Batch:  62%|███████▍    | 77824/126020 [00:08<00:05, 9077.62samples/s]\u001b[A\n",
      "Retrieval Batch:  63%|███████▌    | 78848/126020 [00:08<00:05, 9103.22samples/s]\u001b[A\n",
      "Retrieval Batch:  63%|███████▌    | 79872/126020 [00:08<00:05, 9150.21samples/s]\u001b[A\n",
      "Retrieval Batch:  64%|███████▋    | 80896/126020 [00:08<00:04, 9187.82samples/s]\u001b[A\n",
      "Retrieval Batch:  65%|███████▊    | 81920/126020 [00:09<00:04, 9207.32samples/s]\u001b[A\n",
      "Retrieval Batch:  66%|███████▉    | 82944/126020 [00:09<00:04, 9167.21samples/s]\u001b[A\n",
      "Retrieval Batch:  67%|███████▉    | 83968/126020 [00:09<00:04, 9172.04samples/s]\u001b[A\n",
      "Retrieval Batch:  67%|████████    | 84992/126020 [00:09<00:04, 9162.98samples/s]\u001b[A\n",
      "Retrieval Batch:  68%|████████▏   | 86016/126020 [00:09<00:04, 9157.16samples/s]\u001b[A\n",
      "Retrieval Batch:  69%|████████▎   | 87040/126020 [00:09<00:04, 9195.25samples/s]\u001b[A\n",
      "Retrieval Batch:  70%|████████▍   | 88064/126020 [00:09<00:04, 9187.81samples/s]\u001b[A\n",
      "Retrieval Batch:  71%|████████▍   | 89088/126020 [00:09<00:04, 9178.29samples/s]\u001b[A\n",
      "Retrieval Batch:  72%|████████▌   | 90112/126020 [00:09<00:03, 9172.41samples/s]\u001b[A\n",
      "Retrieval Batch:  72%|████████▋   | 91136/126020 [00:10<00:03, 9161.46samples/s]\u001b[A\n",
      "Retrieval Batch:  73%|████████▊   | 92160/126020 [00:10<00:03, 9140.68samples/s]\u001b[A\n",
      "Retrieval Batch:  74%|████████▊   | 93184/126020 [00:10<00:03, 9147.69samples/s]\u001b[A\n",
      "Retrieval Batch:  75%|████████▉   | 94208/126020 [00:10<00:03, 9130.76samples/s]\u001b[A\n",
      "Retrieval Batch:  76%|█████████   | 95232/126020 [00:10<00:03, 9132.27samples/s]\u001b[A\n",
      "Retrieval Batch:  76%|█████████▏  | 96256/126020 [00:10<00:03, 9090.95samples/s]\u001b[A\n",
      "Retrieval Batch:  77%|█████████▎  | 97280/126020 [00:10<00:03, 9107.03samples/s]\u001b[A\n",
      "Retrieval Batch:  78%|█████████▎  | 98304/126020 [00:10<00:03, 9163.45samples/s]\u001b[A\n"
     ]
    },
    {
     "name": "stderr",
     "output_type": "stream",
     "text": [
      "Retrieval Batch:  79%|█████████▍  | 99328/126020 [00:10<00:02, 9155.12samples/s]\u001b[A\n",
      "Retrieval Batch:  80%|████████▊  | 100352/126020 [00:11<00:02, 9126.66samples/s]\u001b[A\n",
      "Retrieval Batch:  80%|████████▊  | 101376/126020 [00:11<00:02, 9168.45samples/s]\u001b[A\n",
      "Retrieval Batch:  81%|████████▉  | 102400/126020 [00:11<00:02, 9116.16samples/s]\u001b[A\n",
      "Retrieval Batch:  82%|█████████  | 103424/126020 [00:11<00:02, 9072.70samples/s]\u001b[A\n",
      "Retrieval Batch:  83%|█████████  | 104448/126020 [00:11<00:02, 9133.78samples/s]\u001b[A\n",
      "Retrieval Batch:  84%|█████████▏ | 105472/126020 [00:11<00:02, 9145.43samples/s]\u001b[A\n",
      "Retrieval Batch:  85%|█████████▎ | 106496/126020 [00:11<00:02, 9024.97samples/s]\u001b[A\n",
      "Retrieval Batch:  85%|█████████▍ | 107520/126020 [00:11<00:02, 8918.37samples/s]\u001b[A\n",
      "Retrieval Batch:  86%|█████████▍ | 108544/126020 [00:11<00:01, 8852.82samples/s]\u001b[A\n",
      "Retrieval Batch:  87%|█████████▌ | 109568/126020 [00:12<00:01, 8971.03samples/s]\u001b[A\n",
      "Retrieval Batch:  88%|█████████▋ | 110592/126020 [00:12<00:01, 8903.80samples/s]\u001b[A\n",
      "Retrieval Batch:  89%|█████████▋ | 111616/126020 [00:12<00:01, 8889.40samples/s]\u001b[A\n",
      "Retrieval Batch:  89%|█████████▊ | 112640/126020 [00:12<00:01, 8967.96samples/s]\u001b[A\n",
      "Retrieval Batch:  90%|█████████▉ | 113664/126020 [00:12<00:01, 9032.26samples/s]\u001b[A\n",
      "Retrieval Batch:  91%|██████████ | 114688/126020 [00:12<00:01, 9074.63samples/s]\u001b[A\n",
      "Retrieval Batch:  92%|██████████ | 115712/126020 [00:12<00:01, 9074.35samples/s]\u001b[A\n",
      "Retrieval Batch:  93%|██████████▏| 116736/126020 [00:12<00:01, 9094.60samples/s]\u001b[A\n",
      "Retrieval Batch:  93%|██████████▎| 117760/126020 [00:12<00:00, 9122.63samples/s]\u001b[A\n",
      "Retrieval Batch:  94%|██████████▎| 118784/126020 [00:13<00:00, 9133.73samples/s]\u001b[A\n",
      "Retrieval Batch:  95%|██████████▍| 119808/126020 [00:13<00:00, 9144.19samples/s]\u001b[A\n",
      "Retrieval Batch:  96%|██████████▌| 120832/126020 [00:13<00:00, 9128.60samples/s]\u001b[A\n",
      "Retrieval Batch:  97%|██████████▋| 121856/126020 [00:13<00:00, 9143.50samples/s]\u001b[A\n",
      "Retrieval Batch:  98%|██████████▋| 122880/126020 [00:13<00:00, 9153.60samples/s]\u001b[A\n",
      "Retrieval Batch:  98%|██████████▊| 123904/126020 [00:13<00:00, 9166.99samples/s]\u001b[A\n",
      "Retrieval Batch:  99%|██████████▉| 124928/126020 [00:13<00:00, 9176.72samples/s]\u001b[A\n",
      "Retrieval Batch: 100%|██████████▉| 125952/126020 [00:13<00:00, 9148.01samples/s]\u001b[A\n",
      "                                                                                \u001b[A"
     ]
    }
   ],
   "source": [
    "device = torch.device('cuda')\n",
    "metric2 = run_downstream_retrieval_eval(\n",
    "    query_feats=raw_clip_txt.toarray(), \n",
    "    reference_feats=raw_clip_img.toarray(), \n",
    "    verbose=args.verbose, \n",
    "    device=str(device)\n",
    ")"
   ]
  },
  {
   "cell_type": "code",
   "execution_count": 9,
   "id": "270414b1",
   "metadata": {},
   "outputs": [
    {
     "data": {
      "text/plain": [
       "{'R@1': 0.07705125957727432,\n",
       " 'R@5': 0.1717505156993866,\n",
       " 'R@10': 0.22667036950588226,\n",
       " 'MedR': 124,\n",
       " 'MRR': 0.1280054897069931}"
      ]
     },
     "execution_count": 9,
     "metadata": {},
     "output_type": "execute_result"
    }
   ],
   "source": [
    "metric2"
   ]
  },
  {
   "cell_type": "code",
   "execution_count": null,
   "id": "167868eb",
   "metadata": {},
   "outputs": [],
   "source": []
  }
 ],
 "metadata": {
  "kernelspec": {
   "display_name": "sparc",
   "language": "python",
   "name": "sparc"
  },
  "language_info": {
   "codemirror_mode": {
    "name": "ipython",
    "version": 3
   },
   "file_extension": ".py",
   "mimetype": "text/x-python",
   "name": "python",
   "nbconvert_exporter": "python",
   "pygments_lexer": "ipython3",
   "version": "3.11.13"
  }
 },
 "nbformat": 4,
 "nbformat_minor": 5
}
