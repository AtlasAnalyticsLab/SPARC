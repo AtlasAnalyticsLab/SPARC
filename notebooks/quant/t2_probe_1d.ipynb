{
 "cells": [
  {
   "cell_type": "code",
   "execution_count": 1,
   "id": "c9dcd611",
   "metadata": {},
   "outputs": [],
   "source": [
    "import os\n",
    "import json\n",
    "import pickle\n",
    "import warnings\n",
    "from itertools import combinations\n",
    "\n",
    "import numpy as np\n",
    "import torch\n",
    "from scipy import sparse\n",
    "from scipy.sparse import csr_matrix, vstack\n",
    "from sklearn.linear_model import LogisticRegression\n",
    "from sklearn.metrics import log_loss\n",
    "from sklearn.model_selection import StratifiedShuffleSplit\n",
    "from tqdm.auto import tqdm\n",
    "\n",
    "from sparc.feature_extract.extract_open_images import OpenImagesDataset\n",
    "from sparc.post_analysis import HDF5AnalysisResultsDataset\n",
    "\n",
    "# ────────────────────────────────────────────────────────────────────────\n",
    "# Suppress convergence & line‐search warnings for clean output\n",
    "warnings.filterwarnings(\"ignore\", category=UserWarning,\n",
    "                        message=\"The max_iter was reached\")"
   ]
  },
  {
   "cell_type": "code",
   "execution_count": 2,
   "id": "a4e69578",
   "metadata": {},
   "outputs": [
    {
     "name": "stdout",
     "output_type": "stream",
     "text": [
      "Loading caption data from /home/ubuntu/Projects/OpenImages/captions/test/simplified_open_images_test_localized_narratives.json...\n",
      "Loading label data...\n",
      "Total number of classes: 601\n",
      "Loading annotations from /home/ubuntu/Projects/OpenImages/labels/test-annotations-human-imagelabels-boxable.csv...\n",
      "Loaded labels for 112194 images\n"
     ]
    }
   ],
   "source": [
    "np.set_printoptions(suppress=True)\n",
    "\n",
    "dataset = OpenImagesDataset('/home/ubuntu/Projects/OpenImages/', 'test')"
   ]
  },
  {
   "cell_type": "code",
   "execution_count": 3,
   "id": "134c8e5e",
   "metadata": {},
   "outputs": [
    {
     "data": {
      "application/vnd.jupyter.widget-view+json": {
       "model_id": "36d413611348486d8b808db17bec4fbf",
       "version_major": 2,
       "version_minor": 0
      },
      "text/plain": [
       "  0%|          | 0/126020 [00:00<?, ?it/s]"
      ]
     },
     "metadata": {},
     "output_type": "display_data"
    }
   ],
   "source": [
    "labels = []\n",
    "sample_indices = []\n",
    "for idx in tqdm(range(len(dataset))):\n",
    "    image_id, caption_idx = dataset.samples[idx]\n",
    "    if image_id in dataset.image_to_label_tensor:\n",
    "        labels_tensor = dataset.image_to_label_tensor[image_id]\n",
    "        labels.append(csr_matrix(labels_tensor))\n",
    "        sample_indices.append(idx)\n",
    "sample_indices = np.array(sample_indices)\n",
    "label_matrix_sparse = vstack(labels).tocsr()\n"
   ]
  },
  {
   "cell_type": "code",
   "execution_count": 4,
   "id": "2412d23a",
   "metadata": {},
   "outputs": [],
   "source": [
    "analysis_results_global_cross = HDF5AnalysisResultsDataset('../../final_results/msae_open_global_with_cross/analysis_cache_val.h5', 256)\n",
    "analysis_results_global_no_cross = HDF5AnalysisResultsDataset('../../final_results/msae_open_global_no_cross/analysis_cache_val.h5', 256)\n",
    "analysis_results_local_cross = HDF5AnalysisResultsDataset('../../final_results/msae_open_local_with_cross/analysis_cache_val.h5', 256)\n",
    "analysis_results_local_no_cross = HDF5AnalysisResultsDataset('../../final_results/msae_open_local_no_cross/analysis_cache_val.h5', 256)"
   ]
  },
  {
   "cell_type": "markdown",
   "id": "ff21b064",
   "metadata": {},
   "source": [
    "# Probe"
   ]
  },
  {
   "cell_type": "code",
   "execution_count": 5,
   "id": "73ffbaac",
   "metadata": {},
   "outputs": [],
   "source": [
    "def get_XY(analysis_results, stream):\n",
    "    csr_matrix = analysis_results.get_all_features_for_stream(stream, 'latents', return_sparse=True)\n",
    "    all_original_indices = analysis_results.get_all_original_dataset_indices()\n",
    "    index_to_position_map = {original_idx: pos for pos, original_idx in enumerate(all_original_indices)}\n",
    "    Y = label_matrix_sparse\n",
    "    N = analysis_results.get_all_original_dataset_indices().shape[0]\n",
    "    positions_for_labeled_samples = np.array([index_to_position_map[idx] for idx in sample_indices])\n",
    "    stream_X_full = analysis_results.get_all_features_for_stream(stream, 'latents', return_sparse=True)\n",
    "    X = stream_X_full[positions_for_labeled_samples]\n",
    "    \n",
    "    return X, Y"
   ]
  },
  {
   "cell_type": "code",
   "execution_count": 6,
   "id": "36eac30d",
   "metadata": {},
   "outputs": [],
   "source": [
    "def compute_probe_loss(X, Y):\n",
    "    # X : csr_matrix of shape (112_699, 8_192) – latent activations\n",
    "    # Y : csr_matrix of shape (112_699,   601) – binary labels\n",
    "    N, D = X.shape\n",
    "    rng_global = np.random.RandomState(0)\n",
    "\n",
    "    X_binary   = (X > 0).astype(int)                 \n",
    "    all_counts = (X_binary.T @ Y).toarray()          \n",
    "    min_count  = 50\n",
    "\n",
    "    tasks = np.where(Y.sum(0)>min_count)[1]\n",
    "    probe_losses = []\n",
    "\n",
    "    for t in tqdm(tasks, desc=\"Probing tasks\", unit=\"task\"):\n",
    "        rng_task = np.random.RandomState(1000 + t)\n",
    "\n",
    "        y_all = Y[:, t].toarray().ravel()\n",
    "        pos_idx = np.where(y_all == 1)[0]\n",
    "        neg_idx = np.where(y_all == 0)[0]\n",
    "\n",
    "        neg_sample   = rng_task.choice(neg_idx, size=pos_idx.size, replace=False)\n",
    "        balanced_idx = np.concatenate([pos_idx, neg_sample])\n",
    "        balanced_y   = y_all[balanced_idx]\n",
    "\n",
    "        # stratified 70/15/15 split on balanced_idx …\n",
    "        sss1 = StratifiedShuffleSplit(n_splits=1, train_size=0.70, test_size=0.30,\n",
    "                                      random_state=2000 + t)\n",
    "        train_idx_bal, temp_idx_bal = next(sss1.split(np.zeros(balanced_idx.size), balanced_y))\n",
    "        sss2 = StratifiedShuffleSplit(n_splits=1, train_size=0.50, test_size=0.50,\n",
    "                                      random_state=3000 + t)\n",
    "        val_idx_rel, test_idx_rel = next(\n",
    "            sss2.split(np.zeros(temp_idx_bal.size), balanced_y[temp_idx_bal])\n",
    "        )\n",
    "\n",
    "        train_idx = balanced_idx[train_idx_bal]\n",
    "        val_idx   = balanced_idx[temp_idx_bal[val_idx_rel]]\n",
    "        test_idx  = balanced_idx[temp_idx_bal[test_idx_rel]]\n",
    "\n",
    "        # ensure both classes in train\n",
    "        y_train = y_all[train_idx]\n",
    "\n",
    "\n",
    "        # filter & then top-K sort\n",
    "        train_active = np.asarray(X[train_idx, :].sum(axis=0)).ravel() > 0\n",
    "        candidate_idx = np.where((all_counts[:, t] >= 0) &\n",
    "                                 train_active)[0]\n",
    "\n",
    "        K = 20\n",
    "        if candidate_idx.size > K:\n",
    "            freqs = all_counts[candidate_idx, t]\n",
    "            order = np.argsort(freqs)[::-1]\n",
    "            candidate_idx = candidate_idx[order[:K]]\n",
    "\n",
    "        # sweep top-K candidates\n",
    "        best_ce, best_clf, best_i = np.inf, None, None\n",
    "        for i in candidate_idx:\n",
    "            Xi = X[train_idx, i].toarray().reshape(-1, 1)\n",
    "            clf = LogisticRegression(max_iter=200).fit(Xi, y_train)\n",
    "            Xv = X[val_idx, i].toarray().reshape(-1, 1)\n",
    "            ce = log_loss(y_all[val_idx], clf.predict_proba(Xv)[:, 1],\n",
    "                          labels=[0,1])\n",
    "            if ce < best_ce:\n",
    "                best_ce, best_clf, best_i = ce, clf, i\n",
    "\n",
    "\n",
    "        # test eval\n",
    "        Xt = X[test_idx, best_i].toarray().reshape(-1, 1)\n",
    "        preds = best_clf.predict_proba(Xt)[:, 1]\n",
    "        probe_losses.append(log_loss(y_all[test_idx], preds, labels=[0,1]))\n",
    "    return probe_losses"
   ]
  },
  {
   "cell_type": "code",
   "execution_count": 7,
   "id": "52a0c8e4",
   "metadata": {
    "scrolled": true
   },
   "outputs": [
    {
     "name": "stdout",
     "output_type": "stream",
     "text": [
      "Running for exp: global_cross\n"
     ]
    },
    {
     "data": {
      "application/vnd.jupyter.widget-view+json": {
       "model_id": "9e27cf33e16d42618d090248582190cb",
       "version_major": 2,
       "version_minor": 0
      },
      "text/plain": [
       "Probing tasks:   0%|          | 0/432 [00:00<?, ?task/s]"
      ]
     },
     "metadata": {},
     "output_type": "display_data"
    },
    {
     "data": {
      "application/vnd.jupyter.widget-view+json": {
       "model_id": "b844ba4afcad41df92f31b00edd211fa",
       "version_major": 2,
       "version_minor": 0
      },
      "text/plain": [
       "Probing tasks:   0%|          | 0/432 [00:00<?, ?task/s]"
      ]
     },
     "metadata": {},
     "output_type": "display_data"
    },
    {
     "data": {
      "application/vnd.jupyter.widget-view+json": {
       "model_id": "adfdbe51bee948b2b298ad468aad64dd",
       "version_major": 2,
       "version_minor": 0
      },
      "text/plain": [
       "Probing tasks:   0%|          | 0/432 [00:00<?, ?task/s]"
      ]
     },
     "metadata": {},
     "output_type": "display_data"
    },
    {
     "name": "stdout",
     "output_type": "stream",
     "text": [
      "Running for exp: global_no_cross\n"
     ]
    },
    {
     "data": {
      "application/vnd.jupyter.widget-view+json": {
       "model_id": "be846522339e4aa5b89e68c9e8a160e9",
       "version_major": 2,
       "version_minor": 0
      },
      "text/plain": [
       "Probing tasks:   0%|          | 0/432 [00:00<?, ?task/s]"
      ]
     },
     "metadata": {},
     "output_type": "display_data"
    },
    {
     "data": {
      "application/vnd.jupyter.widget-view+json": {
       "model_id": "57b05d93542a4cff89221b746b7ec41d",
       "version_major": 2,
       "version_minor": 0
      },
      "text/plain": [
       "Probing tasks:   0%|          | 0/432 [00:00<?, ?task/s]"
      ]
     },
     "metadata": {},
     "output_type": "display_data"
    },
    {
     "data": {
      "application/vnd.jupyter.widget-view+json": {
       "model_id": "b6978aaddb0246a491d6479cfdd685be",
       "version_major": 2,
       "version_minor": 0
      },
      "text/plain": [
       "Probing tasks:   0%|          | 0/432 [00:00<?, ?task/s]"
      ]
     },
     "metadata": {},
     "output_type": "display_data"
    },
    {
     "name": "stdout",
     "output_type": "stream",
     "text": [
      "Running for exp: local_cross\n"
     ]
    },
    {
     "data": {
      "application/vnd.jupyter.widget-view+json": {
       "model_id": "c0f87fd74d7d402f885de2e952134d6f",
       "version_major": 2,
       "version_minor": 0
      },
      "text/plain": [
       "Probing tasks:   0%|          | 0/432 [00:00<?, ?task/s]"
      ]
     },
     "metadata": {},
     "output_type": "display_data"
    },
    {
     "data": {
      "application/vnd.jupyter.widget-view+json": {
       "model_id": "f5eba21a943642c4acae0adafe6f59a8",
       "version_major": 2,
       "version_minor": 0
      },
      "text/plain": [
       "Probing tasks:   0%|          | 0/432 [00:00<?, ?task/s]"
      ]
     },
     "metadata": {},
     "output_type": "display_data"
    },
    {
     "data": {
      "application/vnd.jupyter.widget-view+json": {
       "model_id": "870ccfd12cce4127978a222c7e7083ac",
       "version_major": 2,
       "version_minor": 0
      },
      "text/plain": [
       "Probing tasks:   0%|          | 0/432 [00:00<?, ?task/s]"
      ]
     },
     "metadata": {},
     "output_type": "display_data"
    },
    {
     "name": "stdout",
     "output_type": "stream",
     "text": [
      "Running for exp: local_no_cross\n"
     ]
    },
    {
     "data": {
      "application/vnd.jupyter.widget-view+json": {
       "model_id": "97d9d993f9fb4000ab83136a23b6f42c",
       "version_major": 2,
       "version_minor": 0
      },
      "text/plain": [
       "Probing tasks:   0%|          | 0/432 [00:00<?, ?task/s]"
      ]
     },
     "metadata": {},
     "output_type": "display_data"
    },
    {
     "data": {
      "application/vnd.jupyter.widget-view+json": {
       "model_id": "7973cb9b6896434fa865a40ae9c9a922",
       "version_major": 2,
       "version_minor": 0
      },
      "text/plain": [
       "Probing tasks:   0%|          | 0/432 [00:00<?, ?task/s]"
      ]
     },
     "metadata": {},
     "output_type": "display_data"
    },
    {
     "data": {
      "application/vnd.jupyter.widget-view+json": {
       "model_id": "74f420dfbd6f4cfbb1b69f248336b23f",
       "version_major": 2,
       "version_minor": 0
      },
      "text/plain": [
       "Probing tasks:   0%|          | 0/432 [00:00<?, ?task/s]"
      ]
     },
     "metadata": {},
     "output_type": "display_data"
    }
   ],
   "source": [
    "probe_results = {}\n",
    "experiments = {\"global_cross\":analysis_results_global_cross,\n",
    "                         \"global_no_cross\": analysis_results_global_no_cross, \n",
    "                         \"local_cross\":analysis_results_local_cross,\n",
    "                         \"local_no_cross\": analysis_results_local_no_cross}\n",
    "\n",
    "for name, analysis_results in experiments.items():\n",
    "    print(f\"Running for exp: {name}\")\n",
    "    exp_results = {}\n",
    "    for stream in analysis_results.streams:\n",
    "        X, Y = get_XY(analysis_results, stream)\n",
    "        probe_losses = compute_probe_loss(X, Y)\n",
    "        exp_results[stream] = probe_losses\n",
    "    probe_results[name] = exp_results"
   ]
  },
  {
   "cell_type": "code",
   "execution_count": 11,
   "id": "aac4d731",
   "metadata": {},
   "outputs": [],
   "source": [
    "# Save Results\n",
    "# os.makedirs('../../final_results/', exist_ok=True)\n",
    "# with open('../../final_results/open_images_probe.json', 'w') as f:\n",
    "#     json.dump(probe_results, f)"
   ]
  },
  {
   "cell_type": "code",
   "execution_count": 12,
   "id": "110dbda4",
   "metadata": {},
   "outputs": [],
   "source": [
    "with open('../../final_results/open_images_probe.json', 'r') as f:\n",
    "    probe_results = json.load(f)"
   ]
  },
  {
   "cell_type": "code",
   "execution_count": 13,
   "id": "76c42de9",
   "metadata": {},
   "outputs": [
    {
     "name": "stdout",
     "output_type": "stream",
     "text": [
      "Performance for global_cross on stream clip_img: 0.535445801401678\n",
      "Performance for global_cross on stream clip_txt: 0.5646201720348464\n",
      "Performance for global_cross on stream dino: 0.5409099481012206\n",
      "Performance for global_no_cross on stream clip_img: 0.5336463733083144\n",
      "Performance for global_no_cross on stream clip_txt: 0.4942256545857633\n",
      "Performance for global_no_cross on stream dino: 0.5193776675324345\n",
      "Performance for local_cross on stream clip_img: 0.49900418200192076\n",
      "Performance for local_cross on stream clip_txt: 0.5363410356381009\n",
      "Performance for local_cross on stream dino: 0.5170213532142913\n",
      "Performance for local_no_cross on stream clip_img: 0.5238217005884307\n",
      "Performance for local_no_cross on stream clip_txt: 0.4903718857503919\n",
      "Performance for local_no_cross on stream dino: 0.5264730380063344\n"
     ]
    }
   ],
   "source": [
    "for name in probe_results:\n",
    "    for stream in probe_results[name]:\n",
    "        probe = np.array(probe_results[name][stream])\n",
    "        mean_probe = probe[probe>=0].mean()\n",
    "        print(f\"Performance for {name} on stream {stream}: {mean_probe}\")"
   ]
  },
  {
   "cell_type": "code",
   "execution_count": null,
   "id": "8a3be70e",
   "metadata": {},
   "outputs": [],
   "source": []
  }
 ],
 "metadata": {
  "kernelspec": {
   "display_name": "sparc",
   "language": "python",
   "name": "sparc"
  },
  "language_info": {
   "codemirror_mode": {
    "name": "ipython",
    "version": 3
   },
   "file_extension": ".py",
   "mimetype": "text/x-python",
   "name": "python",
   "nbconvert_exporter": "python",
   "pygments_lexer": "ipython3",
   "version": "3.11.13"
  }
 },
 "nbformat": 4,
 "nbformat_minor": 5
}
